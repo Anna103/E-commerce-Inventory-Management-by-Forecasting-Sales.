{
 "cells": [
  {
   "cell_type": "code",
   "execution_count": 1,
   "metadata": {},
   "outputs": [],
   "source": [
    "import pandas as pd\n",
    "import datetime\n",
    "import math\n",
    "from sklearn.metrics import mean_squared_error,r2_score"
   ]
  },
  {
   "cell_type": "code",
   "execution_count": 2,
   "metadata": {},
   "outputs": [
    {
     "name": "stdout",
     "output_type": "stream",
     "text": [
      "<class 'pandas.core.frame.DataFrame'>\n",
      "RangeIndex: 109257 entries, 0 to 109256\n",
      "Data columns (total 32 columns):\n",
      "Unnamed: 0                       109257 non-null int64\n",
      "order_id                         109257 non-null object\n",
      "customer_id                      109257 non-null object\n",
      "order_status                     109257 non-null object\n",
      "order_purchase_timestamp         109257 non-null object\n",
      "order_approved_at                109257 non-null object\n",
      "order_delivered_carrier_date     109257 non-null object\n",
      "order_delivered_customer_date    109257 non-null object\n",
      "order_estimated_delivery_date    109257 non-null object\n",
      "order_item_id                    109257 non-null int64\n",
      "product_id                       109257 non-null object\n",
      "seller_id                        109257 non-null object\n",
      "shipping_limit_date              109257 non-null object\n",
      "price                            109257 non-null float64\n",
      "freight_value                    109257 non-null float64\n",
      "seller_zip_code_prefix           109257 non-null int64\n",
      "seller_city                      109257 non-null object\n",
      "seller_state                     109257 non-null object\n",
      "product_name_lenght              109257 non-null float64\n",
      "product_description_lenght       109257 non-null float64\n",
      "product_photos_qty               109257 non-null float64\n",
      "product_weight_g                 109257 non-null float64\n",
      "product_length_cm                109257 non-null float64\n",
      "product_height_cm                109257 non-null float64\n",
      "product_width_cm                 109257 non-null float64\n",
      "product_category_name_english    109257 non-null object\n",
      "customer_unique_id               109257 non-null object\n",
      "customer_zip_code_prefix         109257 non-null int64\n",
      "customer_city                    109257 non-null object\n",
      "customer_state                   109257 non-null object\n",
      "review_score                     109257 non-null int64\n",
      "datediff_purchase_deliver        109257 non-null object\n",
      "dtypes: float64(9), int64(5), object(18)\n",
      "memory usage: 26.7+ MB\n",
      "missing values count\n",
      "14\n",
      "1155\n",
      "2386\n",
      "\n",
      "missing values percentage\n",
      "0.0001260999972978572 %\n",
      "0.01040324977707322 %\n",
      "0.02149104239662052 %\n",
      "[(2002, 1), (1971, 1), (1935, 1), (1759, 1), (1571, 1), (1474, 1), (1434, 1), (1366, 1), (1188, 1), (1156, 1), (1148, 1), (1132, 1), (1005, 1), (833, 1), (784, 1), (752, 1), (739, 1), (713, 1), (647, 1), (618, 1), (579, 1), (571, 1), (553, 1), (526, 1), (515, 1), (513, 1), (485, 1), (432, 1), (429, 1), (421, 1), (418, 1), (414, 1), (403, 1), (400, 1), (391, 1), (384, 1), (377, 1), (350, 1), (344, 1), (343, 1), (342, 1), (338, 1), (336, 1), (335, 1), (333, 1), (330, 1), (326, 1), (324, 1), (323, 1), (322, 1), (314, 1), (313, 1), (309, 1), (305, 1), (282, 1), (270, 1), (266, 1), (265, 1), (264, 1), (250, 1), (249, 1), (248, 1), (243, 1), (239, 1), (238, 1), (237, 1), (234, 1), (231, 1), (230, 1), (228, 1), (223, 1), (221, 1), (220, 1), (219, 1), (210, 1), (203, 1), (197, 1), (193, 1), (192, 1), (190, 1), (187, 1), (186, 1), (180, 1), (179, 1), (177, 1), (175, 1), (169, 1), (168, 1), (167, 1), (166, 1), (163, 1), (162, 1), (160, 1), (157, 1), (149, 1), (148, 1), (146, 1), (144, 1), (139, 1), (136, 1), (116, 1), (108, 1), (106, 1), (100, 1), (95, 1), (90, 1), (79, 1), (554, 2), (427, 2), (406, 2), (358, 2), (217, 2), (214, 2), (206, 2), (204, 2), (200, 2), (195, 2), (191, 2), (184, 2), (183, 2), (174, 2), (173, 2), (172, 2), (159, 2), (152, 2), (151, 2), (147, 2), (143, 2), (142, 2), (140, 2), (137, 2), (134, 2), (133, 2), (132, 2), (131, 2), (130, 2), (118, 2), (113, 2), (109, 2), (105, 2), (104, 2), (103, 2), (102, 2), (87, 2), (80, 2), (76, 2), (57, 2), (260, 3), (189, 3), (178, 3), (171, 3), (155, 3), (145, 3), (135, 3), (129, 3), (128, 3), (125, 3), (115, 3), (99, 3), (97, 3), (94, 3), (93, 3), (91, 3), (88, 3), (82, 3), (75, 3), (71, 3), (69, 3), (67, 3), (62, 3), (59, 3), (49, 3), (121, 4), (89, 4), (83, 4), (81, 4), (78, 4), (73, 4), (72, 4), (63, 4), (55, 4), (126, 5), (111, 5), (110, 5), (101, 5), (98, 5), (85, 5), (74, 5), (68, 5), (65, 5), (61, 5), (53, 5), (51, 5), (47, 5), (40, 5), (96, 6), (92, 6), (86, 6), (70, 6), (64, 6), (60, 6), (56, 6), (37, 6), (52, 7), (45, 7), (84, 8), (77, 8), (66, 8), (44, 8), (36, 8), (50, 9), (46, 9), (58, 10), (41, 10), (48, 11), (42, 11), (33, 11), (32, 11), (54, 12), (35, 12), (34, 12), (29, 12), (43, 13), (31, 13), (39, 15), (27, 15), (26, 15), (28, 16), (25, 17), (23, 20), (38, 21), (24, 22), (21, 22), (20, 25), (30, 26), (19, 26), (22, 28), (18, 31), (17, 36), (15, 37), (16, 38), (14, 40), (13, 49), (12, 57), (10, 62), (11, 76), (9, 79), (8, 87), (7, 87), (6, 112), (5, 142), (4, 147), (3, 180), (2, 273), (1, 485)]\n",
      "Index(['6560211a19b47992c3666cc44a7e94c0', '4a3ca9315b744ce9f8e9374361493884',\n",
      "       '1f50f920176fa81dab994f9023523100', 'cc419e0650a3c5ba77189a1882b7556a',\n",
      "       'da8622b14eb17ae2831f4ac5b9dab84a', '955fee9216a65b617aa5c0531780ce60',\n",
      "       '1025f0e2d44d7041d6cf58b6550e0bfa', '7c67e1448b00f6e969d365cea6b010ab',\n",
      "       'ea8482cd71df3c1969d7b9473ff13abc', '7a67c85e85bb2ce8582c35f2203ad736',\n",
      "       ...\n",
      "       'e5a38146df062edaf55c38afa99e42dc', 'febab0275244b9a49a623f0bd613ca2f',\n",
      "       '33a6f4b1e7cdc205511e76ba1b6e0186', '59fb871bf6f4522a87ba567b42dafecf',\n",
      "       '431af27f296bc6519d890aa5a05fdb11', 'f80edd2c5aaa505cc4b0a3b219abf4b8',\n",
      "       '289cdb325fb7e7f891c38608bf9e0962', '3b15288545f8928d3e65a8f949a28291',\n",
      "       'b1fc4f64df5a0e8b6913ab38803c57a9', 'dd7ddc04e1b6c2c614352b383efe2d36'],\n",
      "      dtype='object', length=196)\n",
      "<class 'pandas.core.frame.DataFrame'>\n",
      "Int64Index: 64541 entries, 9 to 97311\n",
      "Data columns (total 31 columns):\n",
      "order_id                         64541 non-null object\n",
      "customer_id                      64541 non-null object\n",
      "order_status                     64541 non-null object\n",
      "order_purchase_timestamp         64541 non-null object\n",
      "order_approved_at                64541 non-null object\n",
      "order_delivered_carrier_date     64541 non-null object\n",
      "order_delivered_customer_date    64541 non-null object\n",
      "order_estimated_delivery_date    64541 non-null object\n",
      "order_item_id                    64541 non-null int64\n",
      "product_id                       64541 non-null object\n",
      "seller_id                        64541 non-null object\n",
      "shipping_limit_date              64541 non-null object\n",
      "price                            64541 non-null float64\n",
      "freight_value                    64541 non-null float64\n",
      "seller_zip_code_prefix           64541 non-null int64\n",
      "seller_city                      64541 non-null object\n",
      "seller_state                     64541 non-null object\n",
      "product_name_lenght              64541 non-null float64\n",
      "product_description_lenght       64541 non-null float64\n",
      "product_photos_qty               64541 non-null float64\n",
      "product_weight_g                 64541 non-null float64\n",
      "product_length_cm                64541 non-null float64\n",
      "product_height_cm                64541 non-null float64\n",
      "product_width_cm                 64541 non-null float64\n",
      "product_category_name_english    64541 non-null object\n",
      "customer_unique_id               64541 non-null object\n",
      "customer_zip_code_prefix         64541 non-null int64\n",
      "customer_city                    64541 non-null object\n",
      "customer_state                   64541 non-null object\n",
      "review_score                     64541 non-null int64\n",
      "datediff_purchase_deliver        64541 non-null object\n",
      "dtypes: float64(9), int64(4), object(18)\n",
      "memory usage: 15.8+ MB\n"
     ]
    },
    {
     "name": "stderr",
     "output_type": "stream",
     "text": [
      "C:\\Users\\user\\E-commerce-Inventory-Management-by-Forecasting-Sales\\code\\understanding_data.py:203: SettingWithCopyWarning: \n",
      "A value is trying to be set on a copy of a slice from a DataFrame.\n",
      "Try using .loc[row_indexer,col_indexer] = value instead\n",
      "\n",
      "See the caveats in the documentation: http://pandas.pydata.org/pandas-docs/stable/indexing.html#indexing-view-versus-copy\n",
      "  data_new['transaction_year'] = pd.DatetimeIndex(data_new['order_purchase_timestamp']).year\n",
      "C:\\Users\\user\\E-commerce-Inventory-Management-by-Forecasting-Sales\\code\\understanding_data.py:204: SettingWithCopyWarning: \n",
      "A value is trying to be set on a copy of a slice from a DataFrame.\n",
      "Try using .loc[row_indexer,col_indexer] = value instead\n",
      "\n",
      "See the caveats in the documentation: http://pandas.pydata.org/pandas-docs/stable/indexing.html#indexing-view-versus-copy\n",
      "  data_new['transaction_month'] = pd.DatetimeIndex(data_new['order_purchase_timestamp']).month\n",
      "C:\\Users\\user\\E-commerce-Inventory-Management-by-Forecasting-Sales\\code\\understanding_data.py:205: SettingWithCopyWarning: \n",
      "A value is trying to be set on a copy of a slice from a DataFrame.\n",
      "Try using .loc[row_indexer,col_indexer] = value instead\n",
      "\n",
      "See the caveats in the documentation: http://pandas.pydata.org/pandas-docs/stable/indexing.html#indexing-view-versus-copy\n",
      "  data_new['transaction_date'] = pd.DatetimeIndex(data_new['order_purchase_timestamp']).day\n",
      "C:\\Users\\user\\E-commerce-Inventory-Management-by-Forecasting-Sales\\code\\understanding_data.py:206: SettingWithCopyWarning: \n",
      "A value is trying to be set on a copy of a slice from a DataFrame.\n",
      "Try using .loc[row_indexer,col_indexer] = value instead\n",
      "\n",
      "See the caveats in the documentation: http://pandas.pydata.org/pandas-docs/stable/indexing.html#indexing-view-versus-copy\n",
      "  data_new['Bi-Weekly'] = np.where(data_new['transaction_date']<15,1,0)\n",
      "C:\\Users\\user\\E-commerce-Inventory-Management-by-Forecasting-Sales\\code\\understanding_data.py:209: SettingWithCopyWarning: \n",
      "A value is trying to be set on a copy of a slice from a DataFrame.\n",
      "Try using .loc[row_indexer,col_indexer] = value instead\n",
      "\n",
      "See the caveats in the documentation: http://pandas.pydata.org/pandas-docs/stable/indexing.html#indexing-view-versus-copy\n",
      "  data_new['Bi-Weekly']= (2*data_new['transaction_month']-1) - data_new['Bi-Weekly']\n"
     ]
    },
    {
     "name": "stdout",
     "output_type": "stream",
     "text": [
      "   product_category_name_english  transaction_year  transaction_month  count\n",
      "0     agro_industry_and_commerce              2017                  1      3\n",
      "1     agro_industry_and_commerce              2017                  2      6\n",
      "2     agro_industry_and_commerce              2017                  3      2\n",
      "3     agro_industry_and_commerce              2017                  5      2\n",
      "4     agro_industry_and_commerce              2017                  8      4\n",
      "5     agro_industry_and_commerce              2017                 10      1\n",
      "6     agro_industry_and_commerce              2018                  1      1\n",
      "7     agro_industry_and_commerce              2018                  2      1\n",
      "8     agro_industry_and_commerce              2018                  3     10\n",
      "9     agro_industry_and_commerce              2018                  5      1\n",
      "10    agro_industry_and_commerce              2018                  7      3\n",
      "11    agro_industry_and_commerce              2018                  8      1\n",
      "12              air_conditioning              2017                  5      1\n",
      "13              air_conditioning              2017                  6      2\n",
      "14              air_conditioning              2017                 10      1\n",
      "15              air_conditioning              2017                 11      2\n",
      "16              air_conditioning              2018                  1      9\n",
      "17              air_conditioning              2018                  2      4\n",
      "18              air_conditioning              2018                  3      7\n",
      "19              air_conditioning              2018                  4      8\n",
      "20              air_conditioning              2018                  5      2\n",
      "21              air_conditioning              2018                  6      3\n",
      "22              air_conditioning              2018                  7      1\n",
      "23              air_conditioning              2018                  8      2\n",
      "24                           art              2017                  5      1\n",
      "25                           art              2017                  6      2\n",
      "26                           art              2017                  7      1\n",
      "27                           art              2017                  8      1\n",
      "28                           art              2017                  9      1\n",
      "29                           art              2017                 10      1\n",
      "   product_category_name_english  transaction_year  Bi-Weekly  count\n",
      "0     agro_industry_and_commerce              2017          1      3\n",
      "1     agro_industry_and_commerce              2017          2      3\n",
      "2     agro_industry_and_commerce              2017          3      3\n",
      "3     agro_industry_and_commerce              2017          5      2\n",
      "4     agro_industry_and_commerce              2017          8      1\n",
      "5     agro_industry_and_commerce              2017          9      1\n",
      "6     agro_industry_and_commerce              2017         15      4\n",
      "7     agro_industry_and_commerce              2017         18      1\n",
      "8     agro_industry_and_commerce              2018          1      1\n",
      "9     agro_industry_and_commerce              2018          2      1\n",
      "10    agro_industry_and_commerce              2018          4      3\n",
      "11    agro_industry_and_commerce              2018          5      7\n",
      "12    agro_industry_and_commerce              2018          8      1\n",
      "13    agro_industry_and_commerce              2018         12      1\n",
      "14    agro_industry_and_commerce              2018         13      2\n",
      "15    agro_industry_and_commerce              2018         15      1\n",
      "16              air_conditioning              2017          8      1\n",
      "17              air_conditioning              2017         10      1\n",
      "18              air_conditioning              2017         11      1\n",
      "19              air_conditioning              2017         18      1\n",
      "20              air_conditioning              2017         21      2\n",
      "21              air_conditioning              2018          0      2\n",
      "22              air_conditioning              2018          1      7\n",
      "23              air_conditioning              2018          2      1\n",
      "24              air_conditioning              2018          3      3\n",
      "25              air_conditioning              2018          4      3\n",
      "26              air_conditioning              2018          5      4\n",
      "27              air_conditioning              2018          6      4\n",
      "28              air_conditioning              2018          7      4\n",
      "29              air_conditioning              2018          8      2\n",
      "['agro_industry_and_commerce', 'air_conditioning', 'art', 'audio', 'auto', 'baby', 'bed_bath_table', 'books_general_interest', 'cds_dvds_musicals', 'christmas_supplies', 'cine_photo', 'computers', 'computers_accessories', 'consoles_games', 'construction_tools_construction', 'construction_tools_lights', 'construction_tools_safety', 'cool_stuff', 'costruction_tools_garden', 'costruction_tools_tools', 'diapers_and_hygiene', 'drinks', 'dvds_blu_ray', 'electronics', 'fashio_female_clothing', 'fashion_bags_accessories', 'fashion_childrens_clothes', 'fashion_male_clothing', 'fashion_shoes', 'fashion_sport', 'fixed_telephony', 'food', 'food_drink', 'furniture_decor', 'furniture_living_room', 'furniture_mattress_and_upholstery', 'garden_tools', 'health_beauty', 'home_appliances', 'home_appliances_2', 'home_comfort_2', 'home_confort', 'home_construction', 'housewares', 'industry_commerce_and_business', 'kitchen_dining_laundry_garden_furniture', 'luggage_accessories', 'market_place', 'music', 'musical_instruments', 'office_furniture', 'party_supplies', 'perfumery', 'pet_shop', 'security_and_services', 'signaling_and_security', 'small_appliances', 'small_appliances_home_oven_and_coffee', 'sports_leisure', 'stationery', 'tablets_printing_image', 'telephony', 'toys', 'watches_gifts']\n",
      "['agro_industry_and_commerce', 'air_conditioning', 'art', 'audio', 'auto', 'baby', 'bed_bath_table', 'books_general_interest', 'cds_dvds_musicals', 'christmas_supplies', 'cine_photo', 'computers', 'computers_accessories', 'consoles_games', 'construction_tools_construction', 'construction_tools_lights', 'construction_tools_safety', 'cool_stuff', 'costruction_tools_garden', 'costruction_tools_tools', 'diapers_and_hygiene', 'drinks', 'dvds_blu_ray', 'electronics', 'fashio_female_clothing', 'fashion_bags_accessories', 'fashion_childrens_clothes', 'fashion_male_clothing', 'fashion_shoes', 'fashion_sport', 'fixed_telephony', 'food', 'food_drink', 'furniture_decor', 'furniture_living_room', 'furniture_mattress_and_upholstery', 'garden_tools', 'health_beauty', 'home_appliances', 'home_appliances_2', 'home_comfort_2', 'home_confort', 'home_construction', 'housewares', 'industry_commerce_and_business', 'kitchen_dining_laundry_garden_furniture', 'luggage_accessories', 'market_place', 'music', 'musical_instruments', 'office_furniture', 'party_supplies', 'perfumery', 'pet_shop', 'security_and_services', 'signaling_and_security', 'small_appliances', 'small_appliances_home_oven_and_coffee', 'sports_leisure', 'stationery', 'tablets_printing_image', 'telephony', 'toys', 'watches_gifts']\n"
     ]
    },
    {
     "name": "stderr",
     "output_type": "stream",
     "text": [
      "C:\\Users\\user\\Anaconda3\\envs\\fb_prophet\\lib\\site-packages\\matplotlib\\figure.py:98: MatplotlibDeprecationWarning: \n",
      "Adding an axes using the same arguments as a previous axes currently reuses the earlier instance.  In a future version, a new instance will always be created and returned.  Meanwhile, this warning can be suppressed, and the future behavior ensured, by passing a unique label to each axes instance.\n",
      "  \"Adding an axes using the same arguments as a previous axes \"\n",
      "C:\\Users\\user\\Anaconda3\\envs\\fb_prophet\\lib\\site-packages\\matplotlib\\pyplot.py:514: RuntimeWarning: More than 20 figures have been opened. Figures created through the pyplot interface (`matplotlib.pyplot.figure`) are retained until explicitly closed and may consume too much memory. (To control this warning, see the rcParam `figure.max_open_warning`).\n",
      "  max_open_warning, RuntimeWarning)\n"
     ]
    },
    {
     "name": "stdout",
     "output_type": "stream",
     "text": [
      "                            seller_id product_category_name_english  \\\n",
      "0    1025f0e2d44d7041d6cf58b6550e0bfa     construction_tools_lights   \n",
      "1    1025f0e2d44d7041d6cf58b6550e0bfa     construction_tools_lights   \n",
      "2    1025f0e2d44d7041d6cf58b6550e0bfa     construction_tools_lights   \n",
      "3    1025f0e2d44d7041d6cf58b6550e0bfa     construction_tools_lights   \n",
      "4    1025f0e2d44d7041d6cf58b6550e0bfa     construction_tools_lights   \n",
      "5    1025f0e2d44d7041d6cf58b6550e0bfa     construction_tools_lights   \n",
      "6    1025f0e2d44d7041d6cf58b6550e0bfa     construction_tools_lights   \n",
      "7    1025f0e2d44d7041d6cf58b6550e0bfa     construction_tools_lights   \n",
      "8    1025f0e2d44d7041d6cf58b6550e0bfa     construction_tools_lights   \n",
      "9    1025f0e2d44d7041d6cf58b6550e0bfa     construction_tools_lights   \n",
      "10   1025f0e2d44d7041d6cf58b6550e0bfa     construction_tools_lights   \n",
      "11   1025f0e2d44d7041d6cf58b6550e0bfa     construction_tools_lights   \n",
      "12   1025f0e2d44d7041d6cf58b6550e0bfa     construction_tools_lights   \n",
      "13   1025f0e2d44d7041d6cf58b6550e0bfa               furniture_decor   \n",
      "14   1025f0e2d44d7041d6cf58b6550e0bfa               furniture_decor   \n",
      "15   1025f0e2d44d7041d6cf58b6550e0bfa               furniture_decor   \n",
      "16   1025f0e2d44d7041d6cf58b6550e0bfa               furniture_decor   \n",
      "17   1025f0e2d44d7041d6cf58b6550e0bfa               furniture_decor   \n",
      "18   1025f0e2d44d7041d6cf58b6550e0bfa               furniture_decor   \n",
      "19   1025f0e2d44d7041d6cf58b6550e0bfa               furniture_decor   \n",
      "20   1025f0e2d44d7041d6cf58b6550e0bfa               furniture_decor   \n",
      "21   1025f0e2d44d7041d6cf58b6550e0bfa               furniture_decor   \n",
      "22   1025f0e2d44d7041d6cf58b6550e0bfa               furniture_decor   \n",
      "23   1025f0e2d44d7041d6cf58b6550e0bfa               furniture_decor   \n",
      "24   1025f0e2d44d7041d6cf58b6550e0bfa               furniture_decor   \n",
      "25   1025f0e2d44d7041d6cf58b6550e0bfa               furniture_decor   \n",
      "26   1025f0e2d44d7041d6cf58b6550e0bfa               furniture_decor   \n",
      "27   1025f0e2d44d7041d6cf58b6550e0bfa             home_construction   \n",
      "28   1025f0e2d44d7041d6cf58b6550e0bfa             home_construction   \n",
      "29   1025f0e2d44d7041d6cf58b6550e0bfa             home_construction   \n",
      "..                                ...                           ...   \n",
      "906  ea8482cd71df3c1969d7b9473ff13abc                     telephony   \n",
      "907  ea8482cd71df3c1969d7b9473ff13abc                     telephony   \n",
      "908  ea8482cd71df3c1969d7b9473ff13abc                     telephony   \n",
      "909  ea8482cd71df3c1969d7b9473ff13abc                     telephony   \n",
      "910  fa1c13f2614d7b5c4749cbc52fecda94                          auto   \n",
      "911  fa1c13f2614d7b5c4749cbc52fecda94                   electronics   \n",
      "912  fa1c13f2614d7b5c4749cbc52fecda94                   electronics   \n",
      "913  fa1c13f2614d7b5c4749cbc52fecda94                 health_beauty   \n",
      "914  fa1c13f2614d7b5c4749cbc52fecda94                sports_leisure   \n",
      "915  fa1c13f2614d7b5c4749cbc52fecda94                sports_leisure   \n",
      "916  fa1c13f2614d7b5c4749cbc52fecda94                 watches_gifts   \n",
      "917  fa1c13f2614d7b5c4749cbc52fecda94                 watches_gifts   \n",
      "918  fa1c13f2614d7b5c4749cbc52fecda94                 watches_gifts   \n",
      "919  fa1c13f2614d7b5c4749cbc52fecda94                 watches_gifts   \n",
      "920  fa1c13f2614d7b5c4749cbc52fecda94                 watches_gifts   \n",
      "921  fa1c13f2614d7b5c4749cbc52fecda94                 watches_gifts   \n",
      "922  fa1c13f2614d7b5c4749cbc52fecda94                 watches_gifts   \n",
      "923  fa1c13f2614d7b5c4749cbc52fecda94                 watches_gifts   \n",
      "924  fa1c13f2614d7b5c4749cbc52fecda94                 watches_gifts   \n",
      "925  fa1c13f2614d7b5c4749cbc52fecda94                 watches_gifts   \n",
      "926  fa1c13f2614d7b5c4749cbc52fecda94                 watches_gifts   \n",
      "927  fa1c13f2614d7b5c4749cbc52fecda94                 watches_gifts   \n",
      "928  fa1c13f2614d7b5c4749cbc52fecda94                 watches_gifts   \n",
      "929  fa1c13f2614d7b5c4749cbc52fecda94                 watches_gifts   \n",
      "930  fa1c13f2614d7b5c4749cbc52fecda94                 watches_gifts   \n",
      "931  fa1c13f2614d7b5c4749cbc52fecda94                 watches_gifts   \n",
      "932  fa1c13f2614d7b5c4749cbc52fecda94                 watches_gifts   \n",
      "933  fa1c13f2614d7b5c4749cbc52fecda94                 watches_gifts   \n",
      "934  fa1c13f2614d7b5c4749cbc52fecda94                 watches_gifts   \n",
      "935  fa1c13f2614d7b5c4749cbc52fecda94                 watches_gifts   \n",
      "\n",
      "     transaction_year  transaction_month  count  \n",
      "0                2017                  7      1  \n",
      "1                2017                  8      2  \n",
      "2                2017                  9      1  \n",
      "3                2017                 10      2  \n",
      "4                2017                 11      7  \n",
      "5                2018                  1      4  \n",
      "6                2018                  2      2  \n",
      "7                2018                  3      7  \n",
      "8                2018                  4      5  \n",
      "9                2018                  5      7  \n",
      "10               2018                  6      4  \n",
      "11               2018                  7     15  \n",
      "12               2018                  8     14  \n",
      "13               2017                  7      8  \n",
      "14               2017                  8     46  \n",
      "15               2017                  9     80  \n",
      "16               2017                 10     71  \n",
      "17               2017                 11    171  \n",
      "18               2017                 12     24  \n",
      "19               2018                  1     85  \n",
      "20               2018                  2     42  \n",
      "21               2018                  3    141  \n",
      "22               2018                  4    129  \n",
      "23               2018                  5    167  \n",
      "24               2018                  6    101  \n",
      "25               2018                  7    123  \n",
      "26               2018                  8    109  \n",
      "27               2018                  4      9  \n",
      "28               2018                  5     14  \n",
      "29               2018                  6     13  \n",
      "..                ...                ...    ...  \n",
      "906              2018                  5     70  \n",
      "907              2018                  6     77  \n",
      "908              2018                  7     49  \n",
      "909              2018                  8     36  \n",
      "910              2017                 12      1  \n",
      "911              2017                  9      1  \n",
      "912              2018                  3      1  \n",
      "913              2018                  6      1  \n",
      "914              2017                 11      2  \n",
      "915              2018                  4      1  \n",
      "916              2017                  1      5  \n",
      "917              2017                  2     11  \n",
      "918              2017                  3     19  \n",
      "919              2017                  4     15  \n",
      "920              2017                  5     10  \n",
      "921              2017                  6     11  \n",
      "922              2017                  7     20  \n",
      "923              2017                  8     23  \n",
      "924              2017                  9     22  \n",
      "925              2017                 10     31  \n",
      "926              2017                 11     49  \n",
      "927              2017                 12     66  \n",
      "928              2018                  1     42  \n",
      "929              2018                  2     30  \n",
      "930              2018                  3     42  \n",
      "931              2018                  4     36  \n",
      "932              2018                  5     33  \n",
      "933              2018                  6     38  \n",
      "934              2018                  7     37  \n",
      "935              2018                  8     32  \n",
      "\n",
      "[936 rows x 5 columns]\n",
      "                             seller_id product_category_name_english  \\\n",
      "0     1025f0e2d44d7041d6cf58b6550e0bfa     construction_tools_lights   \n",
      "1     1025f0e2d44d7041d6cf58b6550e0bfa     construction_tools_lights   \n",
      "2     1025f0e2d44d7041d6cf58b6550e0bfa     construction_tools_lights   \n",
      "3     1025f0e2d44d7041d6cf58b6550e0bfa     construction_tools_lights   \n",
      "4     1025f0e2d44d7041d6cf58b6550e0bfa     construction_tools_lights   \n",
      "5     1025f0e2d44d7041d6cf58b6550e0bfa     construction_tools_lights   \n",
      "6     1025f0e2d44d7041d6cf58b6550e0bfa     construction_tools_lights   \n",
      "7     1025f0e2d44d7041d6cf58b6550e0bfa     construction_tools_lights   \n",
      "8     1025f0e2d44d7041d6cf58b6550e0bfa     construction_tools_lights   \n",
      "9     1025f0e2d44d7041d6cf58b6550e0bfa     construction_tools_lights   \n",
      "10    1025f0e2d44d7041d6cf58b6550e0bfa     construction_tools_lights   \n",
      "11    1025f0e2d44d7041d6cf58b6550e0bfa     construction_tools_lights   \n",
      "12    1025f0e2d44d7041d6cf58b6550e0bfa     construction_tools_lights   \n",
      "13    1025f0e2d44d7041d6cf58b6550e0bfa     construction_tools_lights   \n",
      "14    1025f0e2d44d7041d6cf58b6550e0bfa     construction_tools_lights   \n",
      "15    1025f0e2d44d7041d6cf58b6550e0bfa     construction_tools_lights   \n",
      "16    1025f0e2d44d7041d6cf58b6550e0bfa     construction_tools_lights   \n",
      "17    1025f0e2d44d7041d6cf58b6550e0bfa     construction_tools_lights   \n",
      "18    1025f0e2d44d7041d6cf58b6550e0bfa     construction_tools_lights   \n",
      "19    1025f0e2d44d7041d6cf58b6550e0bfa     construction_tools_lights   \n",
      "20    1025f0e2d44d7041d6cf58b6550e0bfa     construction_tools_lights   \n",
      "21    1025f0e2d44d7041d6cf58b6550e0bfa     construction_tools_lights   \n",
      "22    1025f0e2d44d7041d6cf58b6550e0bfa     construction_tools_lights   \n",
      "23    1025f0e2d44d7041d6cf58b6550e0bfa               furniture_decor   \n",
      "24    1025f0e2d44d7041d6cf58b6550e0bfa               furniture_decor   \n",
      "25    1025f0e2d44d7041d6cf58b6550e0bfa               furniture_decor   \n",
      "26    1025f0e2d44d7041d6cf58b6550e0bfa               furniture_decor   \n",
      "27    1025f0e2d44d7041d6cf58b6550e0bfa               furniture_decor   \n",
      "28    1025f0e2d44d7041d6cf58b6550e0bfa               furniture_decor   \n",
      "29    1025f0e2d44d7041d6cf58b6550e0bfa               furniture_decor   \n",
      "...                                ...                           ...   \n",
      "1517  fa1c13f2614d7b5c4749cbc52fecda94                 watches_gifts   \n",
      "1518  fa1c13f2614d7b5c4749cbc52fecda94                 watches_gifts   \n",
      "1519  fa1c13f2614d7b5c4749cbc52fecda94                 watches_gifts   \n",
      "1520  fa1c13f2614d7b5c4749cbc52fecda94                 watches_gifts   \n",
      "1521  fa1c13f2614d7b5c4749cbc52fecda94                 watches_gifts   \n",
      "1522  fa1c13f2614d7b5c4749cbc52fecda94                 watches_gifts   \n",
      "1523  fa1c13f2614d7b5c4749cbc52fecda94                 watches_gifts   \n",
      "1524  fa1c13f2614d7b5c4749cbc52fecda94                 watches_gifts   \n",
      "1525  fa1c13f2614d7b5c4749cbc52fecda94                 watches_gifts   \n",
      "1526  fa1c13f2614d7b5c4749cbc52fecda94                 watches_gifts   \n",
      "1527  fa1c13f2614d7b5c4749cbc52fecda94                 watches_gifts   \n",
      "1528  fa1c13f2614d7b5c4749cbc52fecda94                 watches_gifts   \n",
      "1529  fa1c13f2614d7b5c4749cbc52fecda94                 watches_gifts   \n",
      "1530  fa1c13f2614d7b5c4749cbc52fecda94                 watches_gifts   \n",
      "1531  fa1c13f2614d7b5c4749cbc52fecda94                 watches_gifts   \n",
      "1532  fa1c13f2614d7b5c4749cbc52fecda94                 watches_gifts   \n",
      "1533  fa1c13f2614d7b5c4749cbc52fecda94                 watches_gifts   \n",
      "1534  fa1c13f2614d7b5c4749cbc52fecda94                 watches_gifts   \n",
      "1535  fa1c13f2614d7b5c4749cbc52fecda94                 watches_gifts   \n",
      "1536  fa1c13f2614d7b5c4749cbc52fecda94                 watches_gifts   \n",
      "1537  fa1c13f2614d7b5c4749cbc52fecda94                 watches_gifts   \n",
      "1538  fa1c13f2614d7b5c4749cbc52fecda94                 watches_gifts   \n",
      "1539  fa1c13f2614d7b5c4749cbc52fecda94                 watches_gifts   \n",
      "1540  fa1c13f2614d7b5c4749cbc52fecda94                 watches_gifts   \n",
      "1541  fa1c13f2614d7b5c4749cbc52fecda94                 watches_gifts   \n",
      "1542  fa1c13f2614d7b5c4749cbc52fecda94                 watches_gifts   \n",
      "1543  fa1c13f2614d7b5c4749cbc52fecda94                 watches_gifts   \n",
      "1544  fa1c13f2614d7b5c4749cbc52fecda94                 watches_gifts   \n",
      "1545  fa1c13f2614d7b5c4749cbc52fecda94                 watches_gifts   \n",
      "1546  fa1c13f2614d7b5c4749cbc52fecda94                 watches_gifts   \n",
      "\n",
      "      transaction_year  Bi-Weekly  count  \n",
      "0                 2017         13      1  \n",
      "1                 2017         14      1  \n",
      "2                 2017         15      1  \n",
      "3                 2017         16      1  \n",
      "4                 2017         18      1  \n",
      "5                 2017         19      1  \n",
      "6                 2017         20      2  \n",
      "7                 2017         21      5  \n",
      "8                 2018          0      2  \n",
      "9                 2018          1      2  \n",
      "10                2018          3      2  \n",
      "11                2018          4      1  \n",
      "12                2018          5      6  \n",
      "13                2018          6      2  \n",
      "14                2018          7      3  \n",
      "15                2018          8      3  \n",
      "16                2018          9      4  \n",
      "17                2018         10      3  \n",
      "18                2018         11      1  \n",
      "19                2018         12      1  \n",
      "20                2018         13     14  \n",
      "21                2018         14     11  \n",
      "22                2018         15      3  \n",
      "23                2017         12      3  \n",
      "24                2017         13      5  \n",
      "25                2017         14     15  \n",
      "26                2017         15     31  \n",
      "27                2017         16     48  \n",
      "28                2017         17     32  \n",
      "29                2017         18     10  \n",
      "...                ...        ...    ...  \n",
      "1517              2017         10      7  \n",
      "1518              2017         11      4  \n",
      "1519              2017         12      8  \n",
      "1520              2017         13     12  \n",
      "1521              2017         14     16  \n",
      "1522              2017         15      7  \n",
      "1523              2017         16     15  \n",
      "1524              2017         17      7  \n",
      "1525              2017         18     15  \n",
      "1526              2017         19     16  \n",
      "1527              2017         20     19  \n",
      "1528              2017         21     30  \n",
      "1529              2017         22     37  \n",
      "1530              2017         23     29  \n",
      "1531              2018          0     14  \n",
      "1532              2018          1     28  \n",
      "1533              2018          2     12  \n",
      "1534              2018          3     18  \n",
      "1535              2018          4     21  \n",
      "1536              2018          5     21  \n",
      "1537              2018          6     24  \n",
      "1538              2018          7     12  \n",
      "1539              2018          8     17  \n",
      "1540              2018          9     16  \n",
      "1541              2018         10     21  \n",
      "1542              2018         11     17  \n",
      "1543              2018         12     12  \n",
      "1544              2018         13     25  \n",
      "1545              2018         14     26  \n",
      "1546              2018         15      6  \n",
      "\n",
      "[1547 rows x 5 columns]\n"
     ]
    },
    {
     "data": {
      "text/plain": [
       "<Figure size 640x480 with 1 Axes>"
      ]
     },
     "metadata": {},
     "output_type": "display_data"
    },
    {
     "data": {
      "text/plain": [
       "<Figure size 640x480 with 1 Axes>"
      ]
     },
     "metadata": {},
     "output_type": "display_data"
    },
    {
     "data": {
      "text/plain": [
       "<Figure size 640x480 with 1 Axes>"
      ]
     },
     "metadata": {},
     "output_type": "display_data"
    },
    {
     "data": {
      "text/plain": [
       "<Figure size 640x480 with 1 Axes>"
      ]
     },
     "metadata": {},
     "output_type": "display_data"
    },
    {
     "data": {
      "text/plain": [
       "<Figure size 640x480 with 1 Axes>"
      ]
     },
     "metadata": {},
     "output_type": "display_data"
    },
    {
     "data": {
      "text/plain": [
       "<Figure size 640x480 with 1 Axes>"
      ]
     },
     "metadata": {},
     "output_type": "display_data"
    },
    {
     "data": {
      "text/plain": [
       "<Figure size 640x480 with 1 Axes>"
      ]
     },
     "metadata": {},
     "output_type": "display_data"
    },
    {
     "data": {
      "text/plain": [
       "<Figure size 640x480 with 1 Axes>"
      ]
     },
     "metadata": {},
     "output_type": "display_data"
    },
    {
     "data": {
      "text/plain": [
       "<Figure size 640x480 with 1 Axes>"
      ]
     },
     "metadata": {},
     "output_type": "display_data"
    },
    {
     "data": {
      "text/plain": [
       "<Figure size 640x480 with 1 Axes>"
      ]
     },
     "metadata": {},
     "output_type": "display_data"
    },
    {
     "data": {
      "text/plain": [
       "<Figure size 640x480 with 1 Axes>"
      ]
     },
     "metadata": {},
     "output_type": "display_data"
    },
    {
     "data": {
      "text/plain": [
       "<Figure size 640x480 with 1 Axes>"
      ]
     },
     "metadata": {},
     "output_type": "display_data"
    },
    {
     "data": {
      "text/plain": [
       "<Figure size 640x480 with 1 Axes>"
      ]
     },
     "metadata": {},
     "output_type": "display_data"
    },
    {
     "data": {
      "text/plain": [
       "<Figure size 640x480 with 1 Axes>"
      ]
     },
     "metadata": {},
     "output_type": "display_data"
    },
    {
     "data": {
      "text/plain": [
       "<Figure size 640x480 with 1 Axes>"
      ]
     },
     "metadata": {},
     "output_type": "display_data"
    },
    {
     "data": {
      "text/plain": [
       "<Figure size 640x480 with 1 Axes>"
      ]
     },
     "metadata": {},
     "output_type": "display_data"
    },
    {
     "data": {
      "text/plain": [
       "<Figure size 640x480 with 1 Axes>"
      ]
     },
     "metadata": {},
     "output_type": "display_data"
    },
    {
     "data": {
      "text/plain": [
       "<Figure size 640x480 with 1 Axes>"
      ]
     },
     "metadata": {},
     "output_type": "display_data"
    },
    {
     "data": {
      "text/plain": [
       "<Figure size 640x480 with 1 Axes>"
      ]
     },
     "metadata": {},
     "output_type": "display_data"
    },
    {
     "data": {
      "text/plain": [
       "<Figure size 640x480 with 1 Axes>"
      ]
     },
     "metadata": {},
     "output_type": "display_data"
    },
    {
     "data": {
      "text/plain": [
       "<Figure size 640x480 with 1 Axes>"
      ]
     },
     "metadata": {},
     "output_type": "display_data"
    },
    {
     "data": {
      "text/plain": [
       "<Figure size 640x480 with 1 Axes>"
      ]
     },
     "metadata": {},
     "output_type": "display_data"
    },
    {
     "data": {
      "text/plain": [
       "<Figure size 640x480 with 1 Axes>"
      ]
     },
     "metadata": {},
     "output_type": "display_data"
    },
    {
     "data": {
      "text/plain": [
       "<Figure size 640x480 with 1 Axes>"
      ]
     },
     "metadata": {},
     "output_type": "display_data"
    },
    {
     "data": {
      "text/plain": [
       "<Figure size 640x480 with 1 Axes>"
      ]
     },
     "metadata": {},
     "output_type": "display_data"
    },
    {
     "data": {
      "text/plain": [
       "<Figure size 640x480 with 1 Axes>"
      ]
     },
     "metadata": {},
     "output_type": "display_data"
    },
    {
     "data": {
      "text/plain": [
       "<Figure size 640x480 with 1 Axes>"
      ]
     },
     "metadata": {},
     "output_type": "display_data"
    },
    {
     "data": {
      "text/plain": [
       "<Figure size 640x480 with 1 Axes>"
      ]
     },
     "metadata": {},
     "output_type": "display_data"
    },
    {
     "data": {
      "text/plain": [
       "<Figure size 640x480 with 1 Axes>"
      ]
     },
     "metadata": {},
     "output_type": "display_data"
    },
    {
     "data": {
      "text/plain": [
       "<Figure size 640x480 with 1 Axes>"
      ]
     },
     "metadata": {},
     "output_type": "display_data"
    },
    {
     "data": {
      "text/plain": [
       "<Figure size 640x480 with 1 Axes>"
      ]
     },
     "metadata": {},
     "output_type": "display_data"
    },
    {
     "data": {
      "text/plain": [
       "<Figure size 640x480 with 1 Axes>"
      ]
     },
     "metadata": {},
     "output_type": "display_data"
    },
    {
     "data": {
      "text/plain": [
       "<Figure size 640x480 with 1 Axes>"
      ]
     },
     "metadata": {},
     "output_type": "display_data"
    },
    {
     "data": {
      "text/plain": [
       "<Figure size 640x480 with 1 Axes>"
      ]
     },
     "metadata": {},
     "output_type": "display_data"
    },
    {
     "data": {
      "text/plain": [
       "<Figure size 640x480 with 1 Axes>"
      ]
     },
     "metadata": {},
     "output_type": "display_data"
    },
    {
     "data": {
      "text/plain": [
       "<Figure size 640x480 with 1 Axes>"
      ]
     },
     "metadata": {},
     "output_type": "display_data"
    },
    {
     "data": {
      "text/plain": [
       "<Figure size 640x480 with 1 Axes>"
      ]
     },
     "metadata": {},
     "output_type": "display_data"
    },
    {
     "data": {
      "text/plain": [
       "<Figure size 640x480 with 1 Axes>"
      ]
     },
     "metadata": {},
     "output_type": "display_data"
    },
    {
     "data": {
      "text/plain": [
       "<Figure size 640x480 with 1 Axes>"
      ]
     },
     "metadata": {},
     "output_type": "display_data"
    },
    {
     "data": {
      "text/plain": [
       "<Figure size 640x480 with 1 Axes>"
      ]
     },
     "metadata": {},
     "output_type": "display_data"
    },
    {
     "data": {
      "text/plain": [
       "<Figure size 640x480 with 1 Axes>"
      ]
     },
     "metadata": {},
     "output_type": "display_data"
    },
    {
     "data": {
      "text/plain": [
       "<Figure size 640x480 with 1 Axes>"
      ]
     },
     "metadata": {},
     "output_type": "display_data"
    },
    {
     "data": {
      "text/plain": [
       "<Figure size 640x480 with 1 Axes>"
      ]
     },
     "metadata": {},
     "output_type": "display_data"
    },
    {
     "data": {
      "text/plain": [
       "<Figure size 640x480 with 1 Axes>"
      ]
     },
     "metadata": {},
     "output_type": "display_data"
    },
    {
     "data": {
      "text/plain": [
       "<Figure size 640x480 with 1 Axes>"
      ]
     },
     "metadata": {},
     "output_type": "display_data"
    },
    {
     "data": {
      "text/plain": [
       "<Figure size 640x480 with 1 Axes>"
      ]
     },
     "metadata": {},
     "output_type": "display_data"
    },
    {
     "data": {
      "text/plain": [
       "<Figure size 640x480 with 1 Axes>"
      ]
     },
     "metadata": {},
     "output_type": "display_data"
    },
    {
     "data": {
      "text/plain": [
       "<Figure size 640x480 with 1 Axes>"
      ]
     },
     "metadata": {},
     "output_type": "display_data"
    },
    {
     "data": {
      "text/plain": [
       "<Figure size 640x480 with 1 Axes>"
      ]
     },
     "metadata": {},
     "output_type": "display_data"
    },
    {
     "data": {
      "text/plain": [
       "<Figure size 640x480 with 1 Axes>"
      ]
     },
     "metadata": {},
     "output_type": "display_data"
    },
    {
     "data": {
      "text/plain": [
       "<Figure size 640x480 with 1 Axes>"
      ]
     },
     "metadata": {},
     "output_type": "display_data"
    },
    {
     "data": {
      "text/plain": [
       "<Figure size 640x480 with 1 Axes>"
      ]
     },
     "metadata": {},
     "output_type": "display_data"
    },
    {
     "data": {
      "text/plain": [
       "<Figure size 640x480 with 1 Axes>"
      ]
     },
     "metadata": {},
     "output_type": "display_data"
    },
    {
     "data": {
      "text/plain": [
       "<Figure size 640x480 with 1 Axes>"
      ]
     },
     "metadata": {},
     "output_type": "display_data"
    },
    {
     "data": {
      "text/plain": [
       "<Figure size 640x480 with 1 Axes>"
      ]
     },
     "metadata": {},
     "output_type": "display_data"
    },
    {
     "data": {
      "text/plain": [
       "<Figure size 640x480 with 1 Axes>"
      ]
     },
     "metadata": {},
     "output_type": "display_data"
    },
    {
     "data": {
      "text/plain": [
       "<Figure size 640x480 with 1 Axes>"
      ]
     },
     "metadata": {},
     "output_type": "display_data"
    },
    {
     "data": {
      "text/plain": [
       "<Figure size 640x480 with 1 Axes>"
      ]
     },
     "metadata": {},
     "output_type": "display_data"
    },
    {
     "data": {
      "text/plain": [
       "<Figure size 640x480 with 1 Axes>"
      ]
     },
     "metadata": {},
     "output_type": "display_data"
    },
    {
     "data": {
      "text/plain": [
       "<Figure size 640x480 with 1 Axes>"
      ]
     },
     "metadata": {},
     "output_type": "display_data"
    },
    {
     "data": {
      "text/plain": [
       "<Figure size 640x480 with 1 Axes>"
      ]
     },
     "metadata": {},
     "output_type": "display_data"
    },
    {
     "data": {
      "text/plain": [
       "<Figure size 640x480 with 1 Axes>"
      ]
     },
     "metadata": {},
     "output_type": "display_data"
    },
    {
     "data": {
      "text/plain": [
       "<Figure size 640x480 with 1 Axes>"
      ]
     },
     "metadata": {},
     "output_type": "display_data"
    },
    {
     "data": {
      "text/plain": [
       "<Figure size 640x480 with 1 Axes>"
      ]
     },
     "metadata": {},
     "output_type": "display_data"
    },
    {
     "data": {
      "text/plain": [
       "<Figure size 1250x650 with 1 Axes>"
      ]
     },
     "metadata": {},
     "output_type": "display_data"
    },
    {
     "data": {
      "text/plain": [
       "<Figure size 1250x650 with 1 Axes>"
      ]
     },
     "metadata": {},
     "output_type": "display_data"
    },
    {
     "data": {
      "text/plain": [
       "<Figure size 1250x650 with 1 Axes>"
      ]
     },
     "metadata": {},
     "output_type": "display_data"
    },
    {
     "data": {
      "text/plain": [
       "<Figure size 1250x650 with 1 Axes>"
      ]
     },
     "metadata": {},
     "output_type": "display_data"
    },
    {
     "data": {
      "text/plain": [
       "<Figure size 1250x650 with 1 Axes>"
      ]
     },
     "metadata": {},
     "output_type": "display_data"
    },
    {
     "data": {
      "text/plain": [
       "<Figure size 1250x650 with 1 Axes>"
      ]
     },
     "metadata": {},
     "output_type": "display_data"
    },
    {
     "data": {
      "text/plain": [
       "<Figure size 1250x650 with 1 Axes>"
      ]
     },
     "metadata": {},
     "output_type": "display_data"
    },
    {
     "data": {
      "text/plain": [
       "<Figure size 1250x650 with 1 Axes>"
      ]
     },
     "metadata": {},
     "output_type": "display_data"
    },
    {
     "data": {
      "text/plain": [
       "<Figure size 1250x650 with 1 Axes>"
      ]
     },
     "metadata": {},
     "output_type": "display_data"
    },
    {
     "data": {
      "text/plain": [
       "<Figure size 1250x650 with 1 Axes>"
      ]
     },
     "metadata": {},
     "output_type": "display_data"
    },
    {
     "data": {
      "text/plain": [
       "<Figure size 1250x650 with 1 Axes>"
      ]
     },
     "metadata": {},
     "output_type": "display_data"
    },
    {
     "data": {
      "text/plain": [
       "<Figure size 1250x650 with 1 Axes>"
      ]
     },
     "metadata": {},
     "output_type": "display_data"
    },
    {
     "data": {
      "text/plain": [
       "<Figure size 1250x650 with 1 Axes>"
      ]
     },
     "metadata": {},
     "output_type": "display_data"
    },
    {
     "data": {
      "text/plain": [
       "<Figure size 1250x650 with 1 Axes>"
      ]
     },
     "metadata": {},
     "output_type": "display_data"
    },
    {
     "data": {
      "text/plain": [
       "<Figure size 1250x650 with 1 Axes>"
      ]
     },
     "metadata": {},
     "output_type": "display_data"
    },
    {
     "data": {
      "text/plain": [
       "<Figure size 1250x650 with 1 Axes>"
      ]
     },
     "metadata": {},
     "output_type": "display_data"
    },
    {
     "data": {
      "text/plain": [
       "<Figure size 1250x650 with 1 Axes>"
      ]
     },
     "metadata": {},
     "output_type": "display_data"
    },
    {
     "data": {
      "text/plain": [
       "<Figure size 1250x650 with 1 Axes>"
      ]
     },
     "metadata": {},
     "output_type": "display_data"
    },
    {
     "data": {
      "text/plain": [
       "<Figure size 1250x650 with 1 Axes>"
      ]
     },
     "metadata": {},
     "output_type": "display_data"
    },
    {
     "data": {
      "text/plain": [
       "<Figure size 1250x650 with 1 Axes>"
      ]
     },
     "metadata": {},
     "output_type": "display_data"
    },
    {
     "data": {
      "text/plain": [
       "<Figure size 1250x650 with 1 Axes>"
      ]
     },
     "metadata": {},
     "output_type": "display_data"
    },
    {
     "data": {
      "text/plain": [
       "<Figure size 1250x650 with 1 Axes>"
      ]
     },
     "metadata": {},
     "output_type": "display_data"
    },
    {
     "data": {
      "text/plain": [
       "<Figure size 1250x650 with 1 Axes>"
      ]
     },
     "metadata": {},
     "output_type": "display_data"
    },
    {
     "data": {
      "text/plain": [
       "<Figure size 1250x650 with 1 Axes>"
      ]
     },
     "metadata": {},
     "output_type": "display_data"
    },
    {
     "data": {
      "text/plain": [
       "<Figure size 1250x650 with 1 Axes>"
      ]
     },
     "metadata": {},
     "output_type": "display_data"
    },
    {
     "data": {
      "text/plain": [
       "<Figure size 1250x650 with 1 Axes>"
      ]
     },
     "metadata": {},
     "output_type": "display_data"
    },
    {
     "data": {
      "text/plain": [
       "<Figure size 1250x650 with 1 Axes>"
      ]
     },
     "metadata": {},
     "output_type": "display_data"
    },
    {
     "data": {
      "text/plain": [
       "<Figure size 1250x650 with 1 Axes>"
      ]
     },
     "metadata": {},
     "output_type": "display_data"
    },
    {
     "data": {
      "text/plain": [
       "<Figure size 1250x650 with 1 Axes>"
      ]
     },
     "metadata": {},
     "output_type": "display_data"
    },
    {
     "data": {
      "text/plain": [
       "<Figure size 1250x650 with 1 Axes>"
      ]
     },
     "metadata": {},
     "output_type": "display_data"
    },
    {
     "data": {
      "text/plain": [
       "<Figure size 1250x650 with 1 Axes>"
      ]
     },
     "metadata": {},
     "output_type": "display_data"
    },
    {
     "data": {
      "text/plain": [
       "<Figure size 1250x650 with 1 Axes>"
      ]
     },
     "metadata": {},
     "output_type": "display_data"
    },
    {
     "data": {
      "text/plain": [
       "<Figure size 1250x650 with 1 Axes>"
      ]
     },
     "metadata": {},
     "output_type": "display_data"
    },
    {
     "data": {
      "text/plain": [
       "<Figure size 1250x650 with 1 Axes>"
      ]
     },
     "metadata": {},
     "output_type": "display_data"
    },
    {
     "data": {
      "text/plain": [
       "<Figure size 1250x650 with 1 Axes>"
      ]
     },
     "metadata": {},
     "output_type": "display_data"
    },
    {
     "data": {
      "text/plain": [
       "<Figure size 1250x650 with 1 Axes>"
      ]
     },
     "metadata": {},
     "output_type": "display_data"
    },
    {
     "data": {
      "text/plain": [
       "<Figure size 1250x650 with 1 Axes>"
      ]
     },
     "metadata": {},
     "output_type": "display_data"
    },
    {
     "data": {
      "text/plain": [
       "<Figure size 1250x650 with 1 Axes>"
      ]
     },
     "metadata": {},
     "output_type": "display_data"
    },
    {
     "data": {
      "text/plain": [
       "<Figure size 1250x650 with 1 Axes>"
      ]
     },
     "metadata": {},
     "output_type": "display_data"
    },
    {
     "data": {
      "text/plain": [
       "<Figure size 1250x650 with 1 Axes>"
      ]
     },
     "metadata": {},
     "output_type": "display_data"
    },
    {
     "data": {
      "text/plain": [
       "<Figure size 1250x650 with 1 Axes>"
      ]
     },
     "metadata": {},
     "output_type": "display_data"
    },
    {
     "data": {
      "text/plain": [
       "<Figure size 1250x650 with 1 Axes>"
      ]
     },
     "metadata": {},
     "output_type": "display_data"
    },
    {
     "data": {
      "text/plain": [
       "<Figure size 1250x650 with 1 Axes>"
      ]
     },
     "metadata": {},
     "output_type": "display_data"
    },
    {
     "data": {
      "text/plain": [
       "<Figure size 1250x650 with 1 Axes>"
      ]
     },
     "metadata": {},
     "output_type": "display_data"
    },
    {
     "data": {
      "text/plain": [
       "<Figure size 1250x650 with 1 Axes>"
      ]
     },
     "metadata": {},
     "output_type": "display_data"
    },
    {
     "data": {
      "text/plain": [
       "<Figure size 1250x650 with 1 Axes>"
      ]
     },
     "metadata": {},
     "output_type": "display_data"
    },
    {
     "data": {
      "text/plain": [
       "<Figure size 1250x650 with 1 Axes>"
      ]
     },
     "metadata": {},
     "output_type": "display_data"
    },
    {
     "data": {
      "text/plain": [
       "<Figure size 1250x650 with 1 Axes>"
      ]
     },
     "metadata": {},
     "output_type": "display_data"
    },
    {
     "data": {
      "text/plain": [
       "<Figure size 1250x650 with 1 Axes>"
      ]
     },
     "metadata": {},
     "output_type": "display_data"
    },
    {
     "data": {
      "text/plain": [
       "<Figure size 1250x650 with 1 Axes>"
      ]
     },
     "metadata": {},
     "output_type": "display_data"
    },
    {
     "data": {
      "text/plain": [
       "<Figure size 1250x650 with 1 Axes>"
      ]
     },
     "metadata": {},
     "output_type": "display_data"
    },
    {
     "data": {
      "text/plain": [
       "<Figure size 1250x650 with 1 Axes>"
      ]
     },
     "metadata": {},
     "output_type": "display_data"
    },
    {
     "data": {
      "text/plain": [
       "<Figure size 1250x650 with 1 Axes>"
      ]
     },
     "metadata": {},
     "output_type": "display_data"
    },
    {
     "data": {
      "text/plain": [
       "<Figure size 1250x650 with 1 Axes>"
      ]
     },
     "metadata": {},
     "output_type": "display_data"
    },
    {
     "data": {
      "text/plain": [
       "<Figure size 1250x650 with 1 Axes>"
      ]
     },
     "metadata": {},
     "output_type": "display_data"
    },
    {
     "data": {
      "text/plain": [
       "<Figure size 1250x650 with 1 Axes>"
      ]
     },
     "metadata": {},
     "output_type": "display_data"
    },
    {
     "data": {
      "text/plain": [
       "<Figure size 1250x650 with 1 Axes>"
      ]
     },
     "metadata": {},
     "output_type": "display_data"
    },
    {
     "data": {
      "text/plain": [
       "<Figure size 1250x650 with 1 Axes>"
      ]
     },
     "metadata": {},
     "output_type": "display_data"
    },
    {
     "data": {
      "text/plain": [
       "<Figure size 1250x650 with 1 Axes>"
      ]
     },
     "metadata": {},
     "output_type": "display_data"
    },
    {
     "data": {
      "text/plain": [
       "<Figure size 1250x650 with 1 Axes>"
      ]
     },
     "metadata": {},
     "output_type": "display_data"
    },
    {
     "data": {
      "text/plain": [
       "<Figure size 1250x650 with 1 Axes>"
      ]
     },
     "metadata": {},
     "output_type": "display_data"
    },
    {
     "data": {
      "text/plain": [
       "<Figure size 1250x650 with 1 Axes>"
      ]
     },
     "metadata": {},
     "output_type": "display_data"
    },
    {
     "data": {
      "text/plain": [
       "<Figure size 1250x650 with 1 Axes>"
      ]
     },
     "metadata": {},
     "output_type": "display_data"
    },
    {
     "data": {
      "text/plain": [
       "<Figure size 1250x650 with 1 Axes>"
      ]
     },
     "metadata": {},
     "output_type": "display_data"
    },
    {
     "data": {
      "text/plain": [
       "<Figure size 640x480 with 1 Axes>"
      ]
     },
     "metadata": {},
     "output_type": "display_data"
    },
    {
     "data": {
      "text/plain": [
       "<Figure size 640x480 with 1 Axes>"
      ]
     },
     "metadata": {},
     "output_type": "display_data"
    },
    {
     "data": {
      "text/plain": [
       "<Figure size 640x480 with 1 Axes>"
      ]
     },
     "metadata": {},
     "output_type": "display_data"
    },
    {
     "data": {
      "text/plain": [
       "<Figure size 640x480 with 1 Axes>"
      ]
     },
     "metadata": {},
     "output_type": "display_data"
    },
    {
     "data": {
      "text/plain": [
       "<Figure size 640x480 with 1 Axes>"
      ]
     },
     "metadata": {},
     "output_type": "display_data"
    },
    {
     "data": {
      "text/plain": [
       "<Figure size 640x480 with 1 Axes>"
      ]
     },
     "metadata": {},
     "output_type": "display_data"
    },
    {
     "data": {
      "text/plain": [
       "<Figure size 640x480 with 1 Axes>"
      ]
     },
     "metadata": {},
     "output_type": "display_data"
    },
    {
     "data": {
      "text/plain": [
       "<Figure size 640x480 with 1 Axes>"
      ]
     },
     "metadata": {},
     "output_type": "display_data"
    },
    {
     "data": {
      "text/plain": [
       "<Figure size 640x480 with 1 Axes>"
      ]
     },
     "metadata": {},
     "output_type": "display_data"
    },
    {
     "data": {
      "text/plain": [
       "<Figure size 640x480 with 1 Axes>"
      ]
     },
     "metadata": {},
     "output_type": "display_data"
    },
    {
     "data": {
      "text/plain": [
       "<Figure size 640x480 with 1 Axes>"
      ]
     },
     "metadata": {},
     "output_type": "display_data"
    },
    {
     "data": {
      "text/plain": [
       "<Figure size 640x480 with 1 Axes>"
      ]
     },
     "metadata": {},
     "output_type": "display_data"
    },
    {
     "data": {
      "text/plain": [
       "<Figure size 640x480 with 1 Axes>"
      ]
     },
     "metadata": {},
     "output_type": "display_data"
    },
    {
     "data": {
      "text/plain": [
       "<Figure size 640x480 with 1 Axes>"
      ]
     },
     "metadata": {},
     "output_type": "display_data"
    },
    {
     "data": {
      "text/plain": [
       "<Figure size 640x480 with 1 Axes>"
      ]
     },
     "metadata": {},
     "output_type": "display_data"
    },
    {
     "data": {
      "text/plain": [
       "<Figure size 640x480 with 1 Axes>"
      ]
     },
     "metadata": {},
     "output_type": "display_data"
    },
    {
     "data": {
      "text/plain": [
       "<Figure size 640x480 with 1 Axes>"
      ]
     },
     "metadata": {},
     "output_type": "display_data"
    },
    {
     "data": {
      "text/plain": [
       "<Figure size 640x480 with 1 Axes>"
      ]
     },
     "metadata": {},
     "output_type": "display_data"
    },
    {
     "data": {
      "text/plain": [
       "<Figure size 640x480 with 1 Axes>"
      ]
     },
     "metadata": {},
     "output_type": "display_data"
    },
    {
     "data": {
      "text/plain": [
       "<Figure size 640x480 with 1 Axes>"
      ]
     },
     "metadata": {},
     "output_type": "display_data"
    },
    {
     "data": {
      "text/plain": [
       "<Figure size 640x480 with 1 Axes>"
      ]
     },
     "metadata": {},
     "output_type": "display_data"
    },
    {
     "data": {
      "text/plain": [
       "<Figure size 640x480 with 1 Axes>"
      ]
     },
     "metadata": {},
     "output_type": "display_data"
    },
    {
     "data": {
      "text/plain": [
       "<Figure size 640x480 with 1 Axes>"
      ]
     },
     "metadata": {},
     "output_type": "display_data"
    },
    {
     "data": {
      "text/plain": [
       "<Figure size 640x480 with 1 Axes>"
      ]
     },
     "metadata": {},
     "output_type": "display_data"
    },
    {
     "data": {
      "text/plain": [
       "<Figure size 640x480 with 1 Axes>"
      ]
     },
     "metadata": {},
     "output_type": "display_data"
    },
    {
     "data": {
      "text/plain": [
       "<Figure size 640x480 with 1 Axes>"
      ]
     },
     "metadata": {},
     "output_type": "display_data"
    },
    {
     "data": {
      "text/plain": [
       "<Figure size 640x480 with 1 Axes>"
      ]
     },
     "metadata": {},
     "output_type": "display_data"
    },
    {
     "data": {
      "text/plain": [
       "<Figure size 640x480 with 1 Axes>"
      ]
     },
     "metadata": {},
     "output_type": "display_data"
    },
    {
     "data": {
      "text/plain": [
       "<Figure size 640x480 with 1 Axes>"
      ]
     },
     "metadata": {},
     "output_type": "display_data"
    },
    {
     "data": {
      "text/plain": [
       "<Figure size 640x480 with 1 Axes>"
      ]
     },
     "metadata": {},
     "output_type": "display_data"
    },
    {
     "data": {
      "text/plain": [
       "<Figure size 640x480 with 1 Axes>"
      ]
     },
     "metadata": {},
     "output_type": "display_data"
    },
    {
     "data": {
      "text/plain": [
       "<Figure size 640x480 with 1 Axes>"
      ]
     },
     "metadata": {},
     "output_type": "display_data"
    },
    {
     "data": {
      "text/plain": [
       "<Figure size 640x480 with 1 Axes>"
      ]
     },
     "metadata": {},
     "output_type": "display_data"
    },
    {
     "data": {
      "text/plain": [
       "<Figure size 640x480 with 1 Axes>"
      ]
     },
     "metadata": {},
     "output_type": "display_data"
    },
    {
     "data": {
      "text/plain": [
       "<Figure size 640x480 with 1 Axes>"
      ]
     },
     "metadata": {},
     "output_type": "display_data"
    },
    {
     "data": {
      "text/plain": [
       "<Figure size 640x480 with 1 Axes>"
      ]
     },
     "metadata": {},
     "output_type": "display_data"
    },
    {
     "data": {
      "text/plain": [
       "<Figure size 640x480 with 1 Axes>"
      ]
     },
     "metadata": {},
     "output_type": "display_data"
    },
    {
     "data": {
      "text/plain": [
       "<Figure size 640x480 with 1 Axes>"
      ]
     },
     "metadata": {},
     "output_type": "display_data"
    },
    {
     "data": {
      "text/plain": [
       "<Figure size 640x480 with 1 Axes>"
      ]
     },
     "metadata": {},
     "output_type": "display_data"
    },
    {
     "data": {
      "text/plain": [
       "<Figure size 1250x650 with 1 Axes>"
      ]
     },
     "metadata": {},
     "output_type": "display_data"
    },
    {
     "data": {
      "text/plain": [
       "<Figure size 1250x650 with 1 Axes>"
      ]
     },
     "metadata": {},
     "output_type": "display_data"
    },
    {
     "name": "stdout",
     "output_type": "stream",
     "text": [
      "Monthly seller count for the particular seller:\n",
      "   product_category_name_english  transaction_year  transaction_month  count\n",
      "0                           baby              2018                  3      1\n",
      "1                           baby              2018                  4     23\n",
      "2                           baby              2018                  5      7\n",
      "3                           baby              2018                  6      2\n",
      "4                           baby              2018                  7      3\n",
      "5                           baby              2018                  8      6\n",
      "6                   garden_tools              2017                  4      9\n",
      "7                   garden_tools              2017                  5     17\n",
      "8                   garden_tools              2017                  6     13\n",
      "9                   garden_tools              2017                  7     84\n",
      "10                  garden_tools              2017                  8    136\n",
      "11                  garden_tools              2017                  9    127\n",
      "12                  garden_tools              2017                 10    149\n",
      "13                  garden_tools              2017                 11    359\n",
      "14                  garden_tools              2017                 12    178\n",
      "15                  garden_tools              2018                  1    117\n",
      "16                  garden_tools              2018                  2    184\n",
      "17                  garden_tools              2018                  3    122\n",
      "18                  garden_tools              2018                  4    120\n",
      "19                  garden_tools              2018                  5    140\n",
      "20                  garden_tools              2018                  6     51\n",
      "21                  garden_tools              2018                  7     41\n",
      "22                  garden_tools              2018                  8     39\n",
      "23        signaling_and_security              2018                  4      7\n"
     ]
    },
    {
     "data": {
      "text/plain": [
       "<Figure size 640x480 with 1 Axes>"
      ]
     },
     "metadata": {},
     "output_type": "display_data"
    },
    {
     "data": {
      "text/plain": [
       "<Figure size 640x480 with 1 Axes>"
      ]
     },
     "metadata": {},
     "output_type": "display_data"
    },
    {
     "name": "stdout",
     "output_type": "stream",
     "text": [
      "Monthly seller count for the particular seller:\n",
      "   product_category_name_english  transaction_year  transaction_month  count\n",
      "0                           baby              2018                  3      1\n",
      "1                           baby              2018                  4     23\n",
      "2                           baby              2018                  5      7\n",
      "3                           baby              2018                  6      2\n",
      "4                           baby              2018                  7      3\n",
      "5                           baby              2018                  8      6\n",
      "6                   garden_tools              2017                  4      9\n",
      "7                   garden_tools              2017                  5     17\n",
      "8                   garden_tools              2017                  6     13\n",
      "9                   garden_tools              2017                  7     84\n",
      "10                  garden_tools              2017                  8    136\n",
      "11                  garden_tools              2017                  9    127\n",
      "12                  garden_tools              2017                 10    149\n",
      "13                  garden_tools              2017                 11    359\n",
      "14                  garden_tools              2017                 12    178\n",
      "15                  garden_tools              2018                  1    117\n",
      "16                  garden_tools              2018                  2    184\n",
      "17                  garden_tools              2018                  3    122\n",
      "18                  garden_tools              2018                  4    120\n",
      "19                  garden_tools              2018                  5    140\n",
      "20                  garden_tools              2018                  6     51\n",
      "21                  garden_tools              2018                  7     41\n",
      "22                  garden_tools              2018                  8     39\n",
      "23        signaling_and_security              2018                  4      7\n"
     ]
    },
    {
     "data": {
      "text/plain": [
       "<Figure size 640x480 with 1 Axes>"
      ]
     },
     "metadata": {},
     "output_type": "display_data"
    },
    {
     "data": {
      "text/plain": [
       "<Figure size 640x480 with 1 Axes>"
      ]
     },
     "metadata": {},
     "output_type": "display_data"
    },
    {
     "name": "stdout",
     "output_type": "stream",
     "text": [
      "   product_category_name_english  transaction_year  Bi-Weekly  count\n",
      "0                           baby              2018          5      1\n",
      "1                           baby              2018          6      3\n",
      "2                           baby              2018          7     20\n",
      "3                           baby              2018          8      4\n",
      "4                           baby              2018          9      3\n",
      "5                           baby              2018         10      1\n",
      "6                           baby              2018         11      1\n",
      "7                           baby              2018         13      3\n",
      "8                           baby              2018         14      3\n",
      "9                           baby              2018         15      3\n",
      "10                  garden_tools              2017          6      7\n",
      "11                  garden_tools              2017          7      2\n",
      "12                  garden_tools              2017          8     13\n",
      "13                  garden_tools              2017          9      4\n",
      "14                  garden_tools              2017         10      5\n",
      "15                  garden_tools              2017         11      8\n",
      "16                  garden_tools              2017         12      1\n",
      "17                  garden_tools              2017         13     83\n",
      "18                  garden_tools              2017         14     51\n",
      "19                  garden_tools              2017         15     85\n",
      "20                  garden_tools              2017         16     72\n",
      "21                  garden_tools              2017         17     55\n",
      "22                  garden_tools              2017         18     84\n",
      "23                  garden_tools              2017         19     65\n",
      "24                  garden_tools              2017         20     69\n",
      "25                  garden_tools              2017         21    290\n",
      "26                  garden_tools              2017         22     92\n",
      "27                  garden_tools              2017         23     86\n",
      "28                  garden_tools              2018          0     42\n",
      "29                  garden_tools              2018          1     75\n",
      "30                  garden_tools              2018          2    126\n",
      "31                  garden_tools              2018          3     58\n",
      "32                  garden_tools              2018          4     68\n",
      "33                  garden_tools              2018          5     54\n",
      "34                  garden_tools              2018          6     38\n",
      "35                  garden_tools              2018          7     82\n",
      "36                  garden_tools              2018          8     71\n",
      "37                  garden_tools              2018          9     69\n",
      "38                  garden_tools              2018         10     27\n",
      "39                  garden_tools              2018         11     24\n",
      "40                  garden_tools              2018         12     19\n",
      "41                  garden_tools              2018         13     22\n",
      "42                  garden_tools              2018         14     29\n",
      "43                  garden_tools              2018         15     10\n",
      "44        signaling_and_security              2018          6      5\n",
      "45        signaling_and_security              2018          7      2\n",
      "Monthly seller count for the particular seller:\n",
      "   product_category_name_english  transaction_year  transaction_month  count\n",
      "0                           baby              2018                  3      1\n",
      "1                           baby              2018                  4     23\n",
      "2                           baby              2018                  5      7\n",
      "3                           baby              2018                  6      2\n",
      "4                           baby              2018                  7      3\n",
      "5                           baby              2018                  8      6\n",
      "6                   garden_tools              2017                  4      9\n",
      "7                   garden_tools              2017                  5     17\n",
      "8                   garden_tools              2017                  6     13\n",
      "9                   garden_tools              2017                  7     84\n",
      "10                  garden_tools              2017                  8    136\n",
      "11                  garden_tools              2017                  9    127\n",
      "12                  garden_tools              2017                 10    149\n",
      "13                  garden_tools              2017                 11    359\n",
      "14                  garden_tools              2017                 12    178\n",
      "15                  garden_tools              2018                  1    117\n",
      "16                  garden_tools              2018                  2    184\n",
      "17                  garden_tools              2018                  3    122\n",
      "18                  garden_tools              2018                  4    120\n",
      "19                  garden_tools              2018                  5    140\n",
      "20                  garden_tools              2018                  6     51\n",
      "21                  garden_tools              2018                  7     41\n",
      "22                  garden_tools              2018                  8     39\n",
      "23        signaling_and_security              2018                  4      7\n"
     ]
    },
    {
     "data": {
      "text/plain": [
       "<Figure size 10350x3750 with 1 Axes>"
      ]
     },
     "metadata": {},
     "output_type": "display_data"
    },
    {
     "data": {
      "text/plain": [
       "<Figure size 4950x1950 with 1 Axes>"
      ]
     },
     "metadata": {},
     "output_type": "display_data"
    },
    {
     "data": {
      "text/plain": [
       "<Figure size 1650x650 with 1 Axes>"
      ]
     },
     "metadata": {},
     "output_type": "display_data"
    }
   ],
   "source": [
    "from understanding_data import seller_monthly_transaction_count_line_graph\n",
    "from understanding_data import seller_biweekly_transaction_count_line_graph"
   ]
  },
  {
   "cell_type": "code",
   "execution_count": 3,
   "metadata": {},
   "outputs": [],
   "source": [
    "import matplotlib.pyplot as plt\n",
    "import seaborn as sns\n",
    "from sklearn import ensemble\n",
    "from sklearn.metrics import mean_squared_error\n",
    "import numpy as np\n",
    "from sklearn.ensemble import RandomForestRegressor"
   ]
  },
  {
   "cell_type": "code",
   "execution_count": 4,
   "metadata": {},
   "outputs": [],
   "source": [
    "def getInformation(s_id):\n",
    "    sellerdf, unique_prod_categories = getData(s_id)\n",
    "    print('Unique Product Categories Sold by Seller:', unique_prod_categories)\n",
    "    startdate = sellerdf['order_purchase_timestamp'].min()\n",
    "    enddate = sellerdf['order_purchase_timestamp'].max()\n",
    "    print('Earliest Sale Date:', startdate)\n",
    "    print('Last Sale Date:',enddate)\n",
    "    print('\\n Basic Information on sales by seller:\\n')\n",
    "    dataseller = sellerdf['product_category_name_english'].value_counts()\n",
    "    dataseller_df = pd.DataFrame(data=dataseller)\n",
    "    dataseller_df.rename(columns={'product_category_name_english':'sales per product category'},inplace=True)\n",
    "    print(dataseller_df)\n",
    "\n",
    "def getDashboard(s_id):\n",
    "    sellerdf, unique_prod_categories = getData(s_id)\n",
    "    prod_select = input('Enter Product Category:')\n",
    "    print('Monthly Sales of Category:',prod_select)\n",
    "    seller_monthly_transaction_count_line_graph(s_id, prod_select)\n",
    "    print('Bi Weekly Sales of Product Category:', prod_select)\n",
    "    seller_biweekly_transaction_count_line_graph(s_id, prod_select)\n",
    "\n",
    "def getData(s_id):\n",
    "    data_new = pd.read_csv('../Data/Primary_Secondary.csv')\n",
    "    data_new = data_new.drop(columns = ['Unnamed: 0'])\n",
    "    data_new['order_purchase_timestamp'] = pd.to_datetime(data_new['order_purchase_timestamp'])\n",
    "    new_data = data_new[data_new.seller_id==s_id]\n",
    "    new_data = new_data.sort_values(by='order_purchase_timestamp')\n",
    "    new_data = new_data.drop(['order_id', 'customer_id', 'order_status',\n",
    "       'order_approved_at', 'order_delivered_carrier_date',\n",
    "       'order_delivered_customer_date', 'order_estimated_delivery_date',\n",
    "       'order_item_id', 'shipping_limit_date',\n",
    "       'seller_zip_code_prefix', 'seller_city','product_id',\n",
    "       'seller_state', 'product_name_lenght', 'product_description_lenght',\n",
    "       'customer_unique_id','Bi-Weekly','datediff_purchase_deliver'],axis=1)\n",
    "    unique = new_data['product_category_name_english'].unique()\n",
    "    return new_data, unique"
   ]
  },
  {
   "cell_type": "code",
   "execution_count": 7,
   "metadata": {},
   "outputs": [],
   "source": [
    "def Gradient_Boosting_Model(seller_id):\n",
    "    model_data,unique_names = getData(seller_id)\n",
    "    \n",
    "    category = input('Enter Product Category you want to analyze:')\n",
    "    model_data = model_data[model_data['product_category_name_english']==category]\n",
    "    \n",
    "    if model_data.shape[0] < 0:\n",
    "        print(\"Not enogh data to fit model\")\n",
    "        return\n",
    "    \n",
    "    #Extract date from order_purchase_timestamp\n",
    "    model_data['order_purchase_timestamp'] = model_data['order_purchase_timestamp'].apply(lambda x: x.date()).astype('str')\n",
    "    model_data = model_data.drop(['seller_id','product_category_name_english','customer_city','customer_state'],axis=1)\n",
    "    \n",
    "\n",
    "    ## Count the number sales on each day\n",
    "    seller_count = model_data.groupby(['order_purchase_timestamp']).size().reset_index(name='count')\n",
    "    model_data = pd.merge(model_data, seller_count, how='inner',left_on=['order_purchase_timestamp'],right_on=['order_purchase_timestamp'])\n",
    "    model_data = model_data.drop_duplicates(keep='first',subset = 'order_purchase_timestamp')\n",
    "    \n",
    "    ## Perform train test split. We are taking last 30 days from data for testing. Remaining is used for training\n",
    "    length = model_data.shape[0]\n",
    "    num_rows_split = length - 30 \n",
    "    model_data = model_data.drop(['order_purchase_timestamp','transaction_year','transaction_date','customer_zip_code_prefix','price','freight_value'],axis = 1)\n",
    "    ## Covert transaction_month \n",
    "    model_data['transaction_month'] = model_data['transaction_month'].astype('category')\n",
    "    model_train = model_data[:num_rows_split]\n",
    "    model_test = model_data[num_rows_split:]\n",
    "    \n",
    "    x_train = model_train.drop(columns = 'count',axis = 1)\n",
    "    y_train = model_train['count']\n",
    "\n",
    "    x_test = model_test.drop(columns = 'count',axis = 1)\n",
    "    y_test = model_test['count']\n",
    "\n",
    "    learning_rate = [0.01,0.03,0.05,0.07,0.09]\n",
    "    min_samples_split = [2,3,4]\n",
    "    min_samples_leaf = [1,2]\n",
    "    max_depth = [2,3,4]\n",
    "    \n",
    "    ## Grid Search for hyper parameter tuning\n",
    "    mse_min = 9999\n",
    "    lr_min = 0.01\n",
    "    min_samples_split_min = 2\n",
    "    min_samples_leaf_min = 1\n",
    "    max_depth_min = 2\n",
    "    for lr in learning_rate:\n",
    "        for mss in min_samples_split:\n",
    "            for msl in min_samples_leaf:\n",
    "                for md in max_depth:\n",
    "                    params = {'min_samples_split':2,'learning_rate': 0.01, 'verbose':0,'max_depth':2,'min_samples_leaf':1}\n",
    "                    clf = ensemble.GradientBoostingRegressor(**params)\n",
    "                    clf.fit(x_train, y_train)\n",
    "                    mse = mean_squared_error(y_test, clf.predict(x_test))\n",
    "                    \n",
    "                    if mse < mse_min:\n",
    "                        mse_min = mse \n",
    "                        lr_min = lr\n",
    "                        min_samples_split_min = mss\n",
    "                        min_samples_leaf_min = msl\n",
    "                        max_depth_min = md\n",
    "                        \n",
    "    print(\"Best RMSE is \",math.sqrt(mse_min),\"for \",lr_min,min_samples_split_min,min_samples_leaf_min,max_depth_min)\n",
    "    params = {'min_samples_split':min_samples_split_min,'learning_rate': lr_min, 'verbose':0,'max_depth':max_depth_min,'min_samples_leaf':min_samples_leaf_min}\n",
    "    clf = ensemble.GradientBoostingRegressor(**params)\n",
    "    clf.fit(x_train, y_train)\n",
    "    \n",
    "\n",
    "    test_score = np.zeros((100,), dtype=np.float64)\n",
    "\n",
    "    for i, y_pred in enumerate(clf.staged_predict(x_test)):\n",
    "        test_score[i] = clf.loss_(y_test, y_pred)\n",
    "\n",
    "    ## Plotting training and testing deviance\n",
    "    plt.figure(figsize=(12, 6))\n",
    "    plt.subplot(1, 2, 1)\n",
    "    plt.title('Deviance')\n",
    "    plt.plot(np.arange(100) + 1, clf.train_score_, 'b-',label='Training Set Deviance')\n",
    "    plt.plot(np.arange(100) + 1, test_score, 'r-',label='Test Set Deviance')\n",
    "    plt.legend(loc='upper right')\n",
    "    plt.xlabel('Boosting Iterations')\n",
    "    plt.ylabel('Deviance')\n",
    "    plt.show()\n",
    "    y_pred1 = clf.staged_predict(x_train)\n",
    "\n",
    "    feature_importance = clf.feature_importances_\n",
    "    # make importances relative to max importance\n",
    "    feature_importance = 100.0 * (feature_importance / feature_importance.max())\n",
    "    sorted_idx = np.argsort(feature_importance)\n",
    "    pos = np.arange(sorted_idx.shape[0]) + .5\n",
    "\n",
    "    ## Plotting the relative importance of variables\n",
    "    fig = plt.gcf()\n",
    "    fig.set_size_inches(12.5,8.5)\n",
    "    plt.plot(1, 2, 2)\n",
    "    plt.barh(pos, feature_importance[sorted_idx], align='center')\n",
    "    plt.yticks(pos, x_train.columns[sorted_idx])\n",
    "    plt.xlabel('Relative Importance')\n",
    "    plt.title('Variable Importance')\n",
    "    plt.show()\n",
    "    \n",
    "    fiveday_actual = []\n",
    "    fiveday_pred = []\n",
    "    for i in range(6):\n",
    "        fiveday_actual.append(math.ceil(sum(y_test[5*i:5*i+5])))\n",
    "        fiveday_pred.append(math.ceil(sum(clf.predict(x_test)[5*i:5*i+5])))\n",
    "    \n",
    "    agg_pred = math.ceil(sum(clf.predict(x_test)))\n",
    "    agg_actual = math.ceil(sum(y_test))\n",
    "    print(\"Actual count\",agg_actual)\n",
    "    print(\"Predicted count\",agg_pred)"
   ]
  },
  {
   "cell_type": "code",
   "execution_count": 8,
   "metadata": {},
   "outputs": [
    {
     "name": "stdout",
     "output_type": "stream",
     "text": [
      "Enter Product Category you want to analyze:bed_bath_table\n",
      "Best RMSE is  1.4330705543127342 for  0.05 3 1 4\n"
     ]
    },
    {
     "data": {
      "image/png": "[encoded data removed]",
      "text/plain": [
       "<Figure size 864x432 with 1 Axes>"
      ]
     },
     "metadata": {
      "needs_background": "light"
     },
     "output_type": "display_data"
    },
    {
     "data": {
      "image/png": "[encoded data removed]",
      "text/plain": [
       "<Figure size 900x612 with 1 Axes>"
      ]
     },
     "metadata": {
      "needs_background": "light"
     },
     "output_type": "display_data"
    },
    {
     "name": "stdout",
     "output_type": "stream",
     "text": [
      "Actual count 63\n",
      "Predicted count 87\n"
     ]
    }
   ],
   "source": [
    "model_data = Gradient_Boosting_Model('4a3ca9315b744ce9f8e9374361493884')"
   ]
  },
  {
   "cell_type": "code",
   "execution_count": 9,
   "metadata": {},
   "outputs": [],
   "source": [
    "from fbprophet import Prophet"
   ]
  },
  {
   "cell_type": "code",
   "execution_count": 46,
   "metadata": {},
   "outputs": [],
   "source": [
    "def prophet_model(seller_id):\n",
    "    model_data,unique_names = getData(seller_id)\n",
    "    \n",
    "    category = input('Enter Product Category you want to analyze:')\n",
    "    model_data = model_data[model_data['product_category_name_english']==category]\n",
    "    \n",
    "    if model_data.shape[0]<300:\n",
    "        print(\"Not enough data to fit the model\")\n",
    "    ## Extract date from order_purchase_timestamp\n",
    "    model_data['order_purchase_timestamp'] = model_data['order_purchase_timestamp'].apply(lambda x: x.date()).astype('str')\n",
    "    model_data['order_purchase_timestamp'] = pd.to_datetime(model_data['order_purchase_timestamp'])\n",
    "    \n",
    "    seller_count = model_data.groupby(['order_purchase_timestamp']).size().reset_index(name='count')\n",
    "    \n",
    "    model_data = pd.merge(model_data, seller_count, how='inner',left_on=['order_purchase_timestamp'],right_on=['order_purchase_timestamp'],copy=False)\n",
    "\n",
    "    model_data = model_data.drop_duplicates(keep='first',subset = 'order_purchase_timestamp')\n",
    "\n",
    "    #model_data['revenue'] = model_data['count']*model_data['price_y']\n",
    "    \n",
    "    seller = model_data[['order_purchase_timestamp','count']]\n",
    "    seller.columns  = ['ds','y']\n",
    "    \n",
    "    \n",
    "    ## Split into train and test based on last 30 sales days\n",
    "    number_of_obs = seller.shape[0]\n",
    "    split = 30\n",
    "    train = seller[:-split]\n",
    "    test = seller[-split:]\n",
    "    \n",
    "    end = test['ds'].iloc[-1]\n",
    "    start = test['ds'].iloc[0]\n",
    "    diff = end -start\n",
    "    \n",
    "    ## Add holidays of interest for better prediction during this time\n",
    "    holidays = pd.DataFrame({'holiday': 'days_of_interest','ds': pd.to_datetime(['2017-01-01','2017-02-27','2017-02-28',\n",
    "    '2017-03-01','2017-04-14','2017-04-21','2017-05-01','2017-05-15','2017-07-09','2017-09-07','2017-10-12','2017-10-27',\n",
    "    '2017-11-01','2017-11-02','2017-11-15','2017-11-20','2017-12-25','2018-01-01','2018-02-27','2018-02-28',\n",
    "    '2018-03-01','2018-04-14','2018-04-21','2018-05-01','2018-05-15','2018-07-09']),\n",
    "  'lower_window': -1,\n",
    "  'upper_window': 1,\n",
    "})\n",
    "    prophet_model = Prophet(changepoint_prior_scale=0.8,weekly_seasonality=True,holidays=holidays)\n",
    "    \n",
    "    prophet_model.fit(train)\n",
    "    \n",
    "    \n",
    "    ## set the extended periods as present in the test data\n",
    "    predict = prophet_model.make_future_dataframe(periods=diff.days)\n",
    "    \n",
    "    forecast = prophet_model.predict(pd.DataFrame(test['ds']))\n",
    "    forecast_tail = forecast[['ds','yhat','yhat_lower','yhat_upper']]\n",
    "    \n",
    "    rmse = math.sqrt(mean_squared_error(test['y'],forecast_tail['yhat']))\n",
    "    \n",
    "    sum_PE = 0 \n",
    "    predicted = forecast_tail['yhat'].values\n",
    "    actual = test['y'].values\n",
    "    for i in range(len(predicted)):\n",
    "        PE = ((abs(actual[i]-predicted[i]))/(actual[i]))*100\n",
    "        sum_PE += PE\n",
    "    sum_PE = sum_PE/len(predicted)\n",
    "    sum_PE = math.sqrt(sum_PE)\n",
    "    \n",
    "    ## plot the prophet forecasts to gain perspective on sales\n",
    "    forecast = prophet_model.predict(pd.DataFrame(predict))\n",
    "    fig1 = prophet_model.plot(forecast)\n",
    "    \n",
    "    fig2 = prophet_model.plot_components(forecast)\n",
    "    plt.show()\n",
    "    \n",
    "    \n",
    "    predicted_count  = np.ceil(np.sum(forecast_tail[-diff.days:]['yhat']))\n",
    "    \n",
    "    ## Average number of sales predicted per day\n",
    "    average = round(test['y'].mean())\n",
    "    \n",
    "    ## Actual count of the test set\n",
    "    actual_count = np.sum(test['y'])\n",
    "    \n",
    "    print(\"Predicted count = \",predicted_count)\n",
    "    print(\"Average Sales = \",average)\n",
    "    print(\"Actual count = \",actual_count)\n",
    "    print(\"Root Mean Squared for this model is\", rmse)\n",
    "    print(\"Percentage Error for the model is \",sum_PE )\n",
    "    \n",
    "    plt.plot(range(30),test['y'],\"r\",label = \"actual counts\")\n",
    "    plt.plot(range(30),forecast_tail['yhat'],\"b\",label = \"predicted_counts\")\n",
    "    plt.legend()\n",
    "    plt.show()"
   ]
  },
  {
   "cell_type": "code",
   "execution_count": 49,
   "metadata": {
    "scrolled": true
   },
   "outputs": [
    {
     "name": "stdout",
     "output_type": "stream",
     "text": [
      "Enter Product Category you want to analyze:bed_bath_table\n"
     ]
    },
    {
     "name": "stderr",
     "output_type": "stream",
     "text": [
      "C:\\Users\\user\\Anaconda3\\envs\\fb_prophet\\lib\\site-packages\\fbprophet\\forecaster.py:880: FutureWarning: Series.nonzero() is deprecated and will be removed in a future version.Use Series.to_numpy().nonzero() instead\n",
      "  min_dt = dt.iloc[dt.nonzero()[0]].min()\n",
      "INFO:fbprophet:Disabling yearly seasonality. Run prophet with yearly_seasonality=True to override this.\n",
      "INFO:fbprophet:Disabling daily seasonality. Run prophet with daily_seasonality=True to override this.\n",
      "C:\\Users\\user\\Anaconda3\\envs\\fb_prophet\\lib\\site-packages\\pystan\\misc.py:399: FutureWarning: Conversion of the second argument of issubdtype from `float` to `np.floating` is deprecated. In future, it will be treated as `np.float64 == np.dtype(float).type`.\n",
      "  elif np.issubdtype(np.asarray(v).dtype, float):\n"
     ]
    },
    {
     "data": {
      "image/png": "[encoded data removed]",
      "text/plain": [
       "<Figure size 720x432 with 1 Axes>"
      ]
     },
     "metadata": {},
     "output_type": "display_data"
    },
    {
     "data": {
      "image/png": "[encoded data removed]",
      "text/plain": [
       "<Figure size 648x648 with 3 Axes>"
      ]
     },
     "metadata": {},
     "output_type": "display_data"
    },
    {
     "name": "stdout",
     "output_type": "stream",
     "text": [
      "Predicted count =  71.0\n",
      "Average Sales =  2.0\n",
      "Actual count =  63\n",
      "Root Mean Squared for this model is 1.4049935806242444\n",
      "Percentage Error for the model is  9.033650860798632\n"
     ]
    },
    {
     "data": {
      "image/png": "[encoded data removed]",
      "text/plain": [
       "<Figure size 432x288 with 1 Axes>"
      ]
     },
     "metadata": {
      "needs_background": "light"
     },
     "output_type": "display_data"
    }
   ],
   "source": [
    "prophet_model('4a3ca9315b744ce9f8e9374361493884')"
   ]
  },
  {
   "cell_type": "code",
   "execution_count": null,
   "metadata": {},
   "outputs": [],
   "source": []
  }
 ],
 "metadata": {
  "kernelspec": {
   "display_name": "Python 3",
   "language": "python",
   "name": "python3"
  },
  "language_info": {
   "codemirror_mode": {
    "name": "ipython",
    "version": 3
   },
   "file_extension": ".py",
   "mimetype": "text/x-python",
   "name": "python",
   "nbconvert_exporter": "python",
   "pygments_lexer": "ipython3",
   "version": "3.6.7"
  }
 },
 "nbformat": 4,
 "nbformat_minor": 2
}
